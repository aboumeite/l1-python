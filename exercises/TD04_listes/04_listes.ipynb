{
  "nbformat": 4,
  "nbformat_minor": 0,
  "metadata": {
    "kernelspec": {
      "display_name": "Python 3",
      "language": "python",
      "name": "python3"
    },
    "language_info": {
      "codemirror_mode": {
        "name": "ipython",
        "version": 3
      },
      "file_extension": ".py",
      "mimetype": "text/x-python",
      "name": "python",
      "nbconvert_exporter": "python",
      "pygments_lexer": "ipython3",
      "version": "3.7.6"
    },
    "colab": {
      "name": "04_listes.ipynb",
      "provenance": []
    }
  },
  "cells": [
    {
      "cell_type": "markdown",
      "metadata": {
        "id": "yVB2qrvAYB7K"
      },
      "source": [
        "# TD 4: Listes"
      ]
    },
    {
      "cell_type": "markdown",
      "metadata": {
        "id": "Vhq-v2c4YB7S"
      },
      "source": [
        "---\n",
        "\n",
        "## 1. Débuts avec les listes\n",
        "\n",
        "Dans cette partie, il faut écrire les réponses directement dans le notebook. En plus du cours, n'hésitez pas à consulter la documentation (tutoriel) Python sur les listes [ici (introduction aux listes)](https://docs.python.org/fr/3.6/tutorial/introduction.html#lists) et [ici (complément sur les listes)] (https://docs.python.org/fr/3/tutorial/datastructures.html#more-on-lists).\n",
        "\n",
        "1. Créer la liste `3, 5, 10`, l'affecter à une variable, puis l'afficher."
      ]
    },
    {
      "cell_type": "code",
      "metadata": {
        "id": "TJZABVsjYB7T",
        "outputId": "f394f354-5598-4824-c3e5-c8bbbd0816f4",
        "colab": {
          "base_uri": "https://localhost:8080/"
        }
      },
      "source": [
        "liste = [3, 5, 10]\n",
        "print(liste)"
      ],
      "execution_count": 1,
      "outputs": [
        {
          "output_type": "stream",
          "name": "stdout",
          "text": [
            "[3, 5, 10]\n"
          ]
        }
      ]
    },
    {
      "cell_type": "markdown",
      "metadata": {
        "id": "CSsOOojRYB7T"
      },
      "source": [
        "2. Ajouter ensuite 12 et 17 à la fin puis afficher à nouveau la liste."
      ]
    },
    {
      "cell_type": "code",
      "metadata": {
        "id": "qgeFeOoVYB7U",
        "outputId": "b3e6f8f4-68eb-49a2-9922-6199aae4ef03",
        "colab": {
          "base_uri": "https://localhost:8080/"
        }
      },
      "source": [
        "liste = [3, 5, 10]\n",
        "liste = liste + [12, 17]\n",
        "print(liste)"
      ],
      "execution_count": 2,
      "outputs": [
        {
          "output_type": "stream",
          "name": "stdout",
          "text": [
            "[3, 5, 10, 12, 17]\n"
          ]
        }
      ]
    },
    {
      "cell_type": "markdown",
      "metadata": {
        "id": "4O5gwf-_YB7U"
      },
      "source": [
        "3. Changer le 10 en -7."
      ]
    },
    {
      "cell_type": "code",
      "metadata": {
        "id": "iH_dWjneYB7V",
        "outputId": "660d9673-b62e-4108-8880-fdf704b1e7f2",
        "colab": {
          "base_uri": "https://localhost:8080/"
        }
      },
      "source": [
        "liste [2] = -7\n",
        "print(liste)"
      ],
      "execution_count": 6,
      "outputs": [
        {
          "output_type": "stream",
          "name": "stdout",
          "text": [
            "[3, 5, -7, 12, 17]\n"
          ]
        }
      ]
    },
    {
      "cell_type": "markdown",
      "metadata": {
        "id": "dWUhRUDTYB7V"
      },
      "source": [
        "4. Avec une boucle `for`, écrire le double de chaque élément de la liste. Cela doit afficher `[6, 10, -14, 24, 34]`. La liste doit être modifiée."
      ]
    },
    {
      "cell_type": "code",
      "metadata": {
        "id": "GICd8nA4YB7V",
        "outputId": "803f2c71-cf0f-4b43-9e32-6297c8890857",
        "colab": {
          "base_uri": "https://localhost:8080/"
        }
      },
      "source": [
        "for i in range (len(liste)):\n",
        "    liste[i]*=2\n",
        "print(liste)"
      ],
      "execution_count": 7,
      "outputs": [
        {
          "output_type": "stream",
          "name": "stdout",
          "text": [
            "[6, 10, -14, 24, 34]\n"
          ]
        }
      ]
    },
    {
      "cell_type": "markdown",
      "metadata": {
        "id": "LlD6Or01YB7V"
      },
      "source": [
        "5. A l'aide d'une boucle `for`, ajouter  la valeur `i` à l'élément d'indice `i` de la liste. Cela doit afficher `[6, 11, -12, 27, 38]`. La liste doit être modifiée."
      ]
    },
    {
      "cell_type": "code",
      "metadata": {
        "id": "aSbHnyLwYB7W",
        "outputId": "718d4e79-5198-486f-8439-e47668f54b58",
        "colab": {
          "base_uri": "https://localhost:8080/"
        }
      },
      "source": [
        "for i in range(len(liste)):\n",
        "    liste[i]+1\n",
        "print(liste)"
      ],
      "execution_count": 9,
      "outputs": [
        {
          "output_type": "stream",
          "name": "stdout",
          "text": [
            "[6, 10, -14, 24, 34]\n"
          ]
        }
      ]
    },
    {
      "cell_type": "markdown",
      "metadata": {
        "id": "81x5SMU5YB7W"
      },
      "source": [
        "6. Tirer 10 nombres à 2 chiffres au hasard et les mettre dans une nouvelle liste (vide au départ), puis afficher la somme des entiers de la liste et le plus grand de ces entiers."
      ]
    },
    {
      "cell_type": "code",
      "metadata": {
        "id": "VUukJ5EQYB7W",
        "outputId": "60031733-2a1d-4306-fa57-4bac9acf9bd0",
        "colab": {
          "base_uri": "https://localhost:8080/"
        }
      },
      "source": [
        "import random\n",
        "list=[]\n",
        "for i in range(0, 10):\n",
        "    a = random.randint(10, 99)\n",
        "    list+=[a]\n",
        "print(list)"
      ],
      "execution_count": 14,
      "outputs": [
        {
          "output_type": "stream",
          "name": "stdout",
          "text": [
            "[82, 45, 80, 96, 71, 48, 16, 27, 43, 64]\n"
          ]
        }
      ]
    },
    {
      "cell_type": "markdown",
      "metadata": {
        "id": "yqS__q-1YB7X"
      },
      "source": [
        "7. A partir de la liste choisie au hasard, créer une liste qui contient les éléments pairs et une deuxième liste qui contient les éléments impairs."
      ]
    },
    {
      "cell_type": "code",
      "metadata": {
        "id": "aqUiVXqXYB7X",
        "outputId": "a7bfb6db-e3f0-40e9-894b-9a01ff1a1a1e",
        "colab": {
          "base_uri": "https://localhost:8080/"
        }
      },
      "source": [
        "n=[]\n",
        "m=[]\n",
        "for i in range(len(list)):\n",
        "     if list[i] % 2 ==0:\n",
        "         n+=[list[i]]\n",
        "     else: \n",
        "         m+=[list[i]]\n",
        "print(n, m)"
      ],
      "execution_count": 17,
      "outputs": [
        {
          "output_type": "stream",
          "name": "stdout",
          "text": [
            "[82, 80, 96, 48, 16, 64] [45, 71, 27, 43]\n"
          ]
        }
      ]
    },
    {
      "cell_type": "markdown",
      "metadata": {
        "id": "3rQ0f95TYB7X"
      },
      "source": [
        "8. Trier la liste choisie au hasard par ordre croissant en modifiant la liste."
      ]
    },
    {
      "cell_type": "code",
      "metadata": {
        "id": "5twF8gkVYB7Z",
        "outputId": "dae5853c-f296-48b2-885d-337e0d62c96b",
        "colab": {
          "base_uri": "https://localhost:8080/"
        }
      },
      "source": [
        "list.sort()\n",
        "print(list)"
      ],
      "execution_count": 18,
      "outputs": [
        {
          "output_type": "stream",
          "name": "stdout",
          "text": [
            "[16, 27, 43, 45, 48, 64, 71, 80, 82, 96]\n"
          ]
        }
      ]
    },
    {
      "cell_type": "markdown",
      "metadata": {
        "id": "i-50kQj3YB7Z"
      },
      "source": [
        "9. Supprimer le plus petit et le plus grand élément de la liste triée."
      ]
    },
    {
      "cell_type": "code",
      "metadata": {
        "id": "hHCbhmZBYB7Z",
        "outputId": "2514e356-fc15-42aa-afdb-e6874eee1533",
        "colab": {
          "base_uri": "https://localhost:8080/"
        }
      },
      "source": [
        "del list[0]\n",
        "del liste[-1]\n",
        "print(list)"
      ],
      "execution_count": 20,
      "outputs": [
        {
          "output_type": "stream",
          "name": "stdout",
          "text": [
            "[43, 45, 48, 64, 71, 80, 82, 96]\n"
          ]
        }
      ]
    },
    {
      "cell_type": "markdown",
      "metadata": {
        "id": "RAyzSnyhYB7Z"
      },
      "source": [
        "10. Créer la liste des entiers de 1 jusqu'à 52. Ces entiers représentent les cartes d'un paquet de 52 cartes."
      ]
    },
    {
      "cell_type": "code",
      "metadata": {
        "id": "9QGpa-ktYB7a",
        "outputId": "2027781e-c5f7-45be-d5e5-996a521eec9a",
        "colab": {
          "base_uri": "https://localhost:8080/"
        }
      },
      "source": [
        "lis=[]\n",
        "c = 52\n",
        "for i in range(c+1):\n",
        "    lis+=[i]\n",
        "print(lis)"
      ],
      "execution_count": 22,
      "outputs": [
        {
          "output_type": "stream",
          "name": "stdout",
          "text": [
            "[0, 1, 2, 3, 4, 5, 6, 7, 8, 9, 10, 11, 12, 13, 14, 15, 16, 17, 18, 19, 20, 21, 22, 23, 24, 25, 26, 27, 28, 29, 30, 31, 32, 33, 34, 35, 36, 37, 38, 39, 40, 41, 42, 43, 44, 45, 46, 47, 48, 49, 50, 51, 52]\n"
          ]
        }
      ]
    },
    {
      "cell_type": "markdown",
      "metadata": {
        "id": "LJ6F-WeOYB7a"
      },
      "source": [
        " 11. Couper le jeu de carte revient à choisir un indice `i` entre 0 et 51, et à passer toutes les cartes allant des indices 0 à i-1 à la suite des cartes qui vont des indices i à 51. Ecrire le code qui effectue une coupe choisie au hasard."
      ]
    },
    {
      "cell_type": "code",
      "metadata": {
        "id": "QMXFAu5SYB7a"
      },
      "source": [
        ""
      ],
      "execution_count": null,
      "outputs": []
    },
    {
      "cell_type": "markdown",
      "metadata": {
        "id": "I8dtGXdfYB7a"
      },
      "source": [
        "---\n",
        "\n",
        "## 2. Problème de Syracuse\n",
        "\n",
        "Cette partie est à traiter dans un script que vous pouvez appeler, par exemple, `syracuse.py`.\n",
        "\n",
        "En partant d'un entier `n` de départ, on définit une suite d'entiers en obtenant chaque nouveau terme à partir du précédent soit en le divisant par 2 s'il est pair, soit en le multipliant par 3 et en ajoutant 1 s'il est impair. \n",
        "\n",
        "1. Sans écrire de programme, calculer les premières valeurs de la suite en chosissant `n = 3`.\n",
        "\n",
        "2. Ecrire la fonction qui, à partir d'un entier initial, renvoie la liste des valeurs successives jusqu'à ce que la valeur `1` soit atteinte (le dernier élément de la liste est donc toujours 1)."
      ]
    },
    {
      "cell_type": "code",
      "metadata": {
        "id": "BClvKHVJYB7b"
      },
      "source": [
        "def syracuse(n):\n",
        "    \"\"\" Retourne la liste des valeurs de la suite en partant de n jusqu'à 1 \"\"\"\n",
        "    pass\n",
        "\n",
        "print(syracuse(3))"
      ],
      "execution_count": null,
      "outputs": []
    },
    {
      "cell_type": "markdown",
      "metadata": {
        "id": "u3mADob4YB7b"
      },
      "source": [
        "3. La conjecture de Collatz (ou problème de Syracuse) affirme que, quel que soit l’entier `n` que l’on choisisse au départ, on finit toujours par arriver à 1 (ce résultat est une *conjecture*, c'est-à-dire qu'il n'a pas été démontré, mais qu'il n'existe pas de contre-exemple connu). Écrire une fonction qui, en appelant la fonction précédente, va vérifier si la conjecture est vraie pour `n` de 1 à `n_max`, où `n_max` est un paramètre de la fonction. \n",
        "\n",
        "*Remarque*: si tout se passe bien, la fonction doit juste se terminer et renvoyer `True` par exemple. Sinon, c’est qu’on sera entré dans une boucle infinie."
      ]
    },
    {
      "cell_type": "code",
      "metadata": {
        "tags": [],
        "id": "EODbpUlKYB7c"
      },
      "source": [
        "def testeConjecture(n_max):\n",
        "    \"\"\" Teste la conjecture de Collatz pour toutes les valeurs de 2 à n_max \"\"\"\n",
        "    pass\n",
        "\n",
        "print(testeConjecture(10000))"
      ],
      "execution_count": null,
      "outputs": []
    },
    {
      "cell_type": "markdown",
      "metadata": {
        "id": "awWSMWDUYB7d"
      },
      "source": [
        "4. On appelle *temps de vol* de l’entier `n` le nombre d’étapes pour aller de `n` jusqu’à 1. Le temps de vol de 1 est 0, le temps de vol de 3 est 7. Écrire une fonction qui, étant donné un paramètre `n`, renvoie son temps de vol."
      ]
    },
    {
      "cell_type": "code",
      "metadata": {
        "id": "yKL2FQk5YB7e"
      },
      "source": [
        "def tempsVol(n):\n",
        "    \"\"\" Retourne le temps de vol de n \"\"\"\n",
        "    pass\n",
        "\n",
        "print(\"Le temps de vol de\", 3, \"est\", tempsVol(3))"
      ],
      "execution_count": null,
      "outputs": []
    },
    {
      "cell_type": "markdown",
      "metadata": {
        "id": "GY1HoNliYB7e"
      },
      "source": [
        "5. Ecrire une fonction qui, étant donné un paramètre `n_max` renvoie la liste des temps de vol de tous les entiers de 1 à `n_max`. *Indication*: utiliser une liste en compréhension."
      ]
    },
    {
      "cell_type": "code",
      "metadata": {
        "id": "4eg-nZ-BYB7e"
      },
      "source": [
        "def tempsVolListe(n_max):\n",
        "    \"\"\" Retourne la liste de tous les temps de vol de 1 à n_max \"\"\"\n",
        "    pass\n",
        "\n",
        "print(tempsVolListe(100))"
      ],
      "execution_count": null,
      "outputs": []
    },
    {
      "cell_type": "markdown",
      "metadata": {
        "id": "C4ALOJ8DYB7e"
      },
      "source": [
        "6. Déterminer quel entier entre 1 et 10000 a le plus grand temps de vol (réponse 6171 qui a le temps de vol 261)."
      ]
    },
    {
      "cell_type": "markdown",
      "metadata": {
        "id": "lsLeuK7HYB7f"
      },
      "source": [
        "7. L’altitude maximale de l'entier `n` est la plus grande valeur par laquelle passe `n` au cours de son vol. Déterminer quel entier entre 1 et 10000 a la plus grande altitude maximale (réponse 27114424, atteint par l'entier 9663). Ne pas hésiter à écrire de nouvelles fonctions pour cela."
      ]
    },
    {
      "cell_type": "markdown",
      "metadata": {
        "id": "UJZm8V3wYB7h"
      },
      "source": [
        "---\n",
        "\n",
        "## 3. Carré magique\n",
        "\n",
        "*Définition* extraite de [l'article Wikipedia sur le carré magique](https://fr.wikipedia.org/wiki/Carr%C3%A9_magique_(math%C3%A9matiques)): en mathématiques, un carré magique d’ordre $n$ est composé de $n^2$ entiers strictement positifs, écrits sous la forme d’un tableau carré. Ces nombres sont disposés de sorte que leurs sommes sur chaque rangée, sur chaque colonne et sur chaque diagonale principale soient égales. On nomme alors *constante magique* la valeur de ces sommes. \n",
        "\n",
        "Un exemple de carré magique:\n",
        "\n",
        "$$\\begin{bmatrix} 4 & 14 & 15 & 1 \\\\ 9 & 7 & 6 & 12 \\\\ 5 & 11 & 10 & 8 \\\\ 16 & 2 & 3 & 13 \\end{bmatrix}$$\n",
        "\n",
        "1. Sans écrire de programme, vérifier qu'il s'agit bien d'un carré magique, et donner sa constante magique.\n",
        "\n",
        "Les questions qui suivent doivent être traitées dans un script, qui peut s'appeler `carre_magique.py`. Pensez à utiliser [PythonTutor](http://pythontutor.com/) et les outils de programmation pour résoudre les problèmes qui pourraient survenir.\n",
        "\n",
        "2. Créer une liste à deux dimensions affectée à  la variable `carre_mag` contenant ce carré magique."
      ]
    },
    {
      "cell_type": "markdown",
      "metadata": {
        "id": "qgjdzqxvYB7h"
      },
      "source": [
        "3. Créer une deuxième liste affectée à la variable `carre_pas_mag` qui ne soit pas magique à partir du carré magique en changeant le 3 en 7. "
      ]
    },
    {
      "cell_type": "markdown",
      "metadata": {
        "id": "ELg4p_PvYB7i"
      },
      "source": [
        "4. Créer une fonction qui affiche la liste comme un carré."
      ]
    },
    {
      "cell_type": "code",
      "metadata": {
        "id": "RCOW9O29YB7i"
      },
      "source": [
        "def afficheCarre(carre):\n",
        "    \"\"\" Affiche la liste à 2 dimensions carre comme un carré\"\"\"\n",
        "    pass\n",
        "\n",
        "afficheCarre(carre_mag)\n",
        "afficheCarre(carre_pas_mag)\n"
      ],
      "execution_count": null,
      "outputs": []
    },
    {
      "cell_type": "markdown",
      "metadata": {
        "id": "idTWZinoYB7i"
      },
      "source": [
        "5. Ecrire une fonction qui teste si les lignes du carré ont toutes la même somme. Cette fonction renvoie cette somme si c'est le cas, et `-1` sinon."
      ]
    },
    {
      "cell_type": "code",
      "metadata": {
        "id": "s2wfCbIkYB7i"
      },
      "source": [
        "def testLignesEgales(carre):\n",
        "    \"\"\" Renvoie la somme des éléments d'une ligne de la liste 2D carre si toutes les lignes ont la même somme, et -1 sinon \"\"\"\n",
        "    pass\n",
        "\n",
        "print(testLignesEgales(carre_mag))\n",
        "print(testLignesEgales(carre_pas_mag))\n"
      ],
      "execution_count": null,
      "outputs": []
    },
    {
      "cell_type": "markdown",
      "metadata": {
        "id": "ZlnltVuzYB7j"
      },
      "source": [
        "6. Même question mais en testant les colonnes."
      ]
    },
    {
      "cell_type": "code",
      "metadata": {
        "id": "-sTFNTwVYB7j"
      },
      "source": [
        "def testColonnesEgales(carre):\n",
        "    \"\"\" Renvoie la somme des éléments d'une colonne de la liste 2D carre si toutes les colonnes ont la même somme, et -1 sinon \"\"\"\n",
        "    pass\n",
        "\n",
        "print(testColonnesEgales(carre_mag))\n",
        "print(testColonnesEgales(carre_pas_mag))"
      ],
      "execution_count": null,
      "outputs": []
    },
    {
      "cell_type": "markdown",
      "metadata": {
        "id": "jZDnGZfeYB7j"
      },
      "source": [
        "7. Même question mais en testant les 2 diagonales."
      ]
    },
    {
      "cell_type": "code",
      "metadata": {
        "id": "dYMqNTdvYB7j"
      },
      "source": [
        "def testDiagonalesEgales(carre):\n",
        "    \"\"\" Renvoie la somme des éléments d'une diagonale de la liste 2D carre si les 2 diagonales ont la même somme, et -1 sinon \"\"\"\n",
        "    pass\n",
        "\n",
        "print(testDiagonalesEgales(carre_mag))\n",
        "print(testDiagonalesEgales(carre_pas_mag))"
      ],
      "execution_count": null,
      "outputs": []
    },
    {
      "cell_type": "markdown",
      "metadata": {
        "id": "m4fJ7yYNYB7j"
      },
      "source": [
        "8. Créer une fonction qui teste si un carré est magique. Elle retourne `True` si c'est le cas et `False` sinon."
      ]
    },
    {
      "cell_type": "code",
      "metadata": {
        "id": "gURJ-idaYB7k"
      },
      "source": [
        "def estCarreMagique(carre):\n",
        "    \"\"\" Renvoie True si c'est un carre magique et False sinon\"\"\"\n",
        "    pass\n",
        "\n",
        "print(estCarreMagique(carre_mag))\n",
        "print(estCarreMagique(carre_pas_mag))"
      ],
      "execution_count": null,
      "outputs": []
    },
    {
      "cell_type": "markdown",
      "metadata": {
        "id": "5kqvl6_9YB7k"
      },
      "source": [
        "9. Un carré d'ordre $n$ est *normal* s'il contient tous les entiers de 1 à $n^2$. Ecrire une fonction qui teste si un carré est normal (pas nécessairement magique)."
      ]
    },
    {
      "cell_type": "code",
      "metadata": {
        "id": "aDvt5Ng_YB7k"
      },
      "source": [
        "def estNormal(carre):\n",
        "    \"\"\" Retourne True si contient toutes les valeurs de 1 à n^2 où n est la taille \n",
        "        du carré, et False sinon \"\"\"\n",
        "    pass\n",
        "\n",
        "print(estNormal(carre_mag))\n",
        "print(estNormal(carre_pas_mag))"
      ],
      "execution_count": null,
      "outputs": []
    }
  ]
}